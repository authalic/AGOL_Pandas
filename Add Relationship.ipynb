{
 "cells": [
  {
   "cell_type": "code",
   "execution_count": 1,
   "metadata": {},
   "outputs": [],
   "source": [
    "import json\n",
    "from arcgis.gis import GIS\n",
    "from arcgis.gis import Item"
   ]
  },
  {
   "cell_type": "code",
   "execution_count": 2,
   "metadata": {},
   "outputs": [],
   "source": [
    "# connect to ArcGIS Online with DNR credentials\n",
    "\n",
    "with open(r'C:\\projects\\python\\jupyter\\secrets.json') as secrets:\n",
    "    s = json.load(secrets)\n",
    "    \n",
    "    # load username and password from secrets.json into variables here\n",
    "    DNR_username = s[\"dnr\"][\"username\"]\n",
    "    DNR_password = s[\"dnr\"][\"password\"]\n",
    "\n",
    "# connect to the GIS\n",
    "gis = GIS(username=DNR_username, password=DNR_password)"
   ]
  },
  {
   "cell_type": "code",
   "execution_count": 24,
   "metadata": {},
   "outputs": [
    {
     "data": {
      "text/plain": [
       "[<FeatureLayer url:\"https://services.arcgis.com/ZzrwjTRez6FJiOq4/arcgis/rest/services/COVID19_DNR_Resources_gdb/FeatureServer/0\">,\n",
       " <FeatureLayer url:\"https://services.arcgis.com/ZzrwjTRez6FJiOq4/arcgis/rest/services/COVID19_DNR_Resources_gdb/FeatureServer/1\">]"
      ]
     },
     "execution_count": 24,
     "metadata": {},
     "output_type": "execute_result"
    }
   ],
   "source": [
    "\n",
    "# ItemID of Feature Service\n",
    "gdb_id = 'dcff2654a18e4bf794f5e296e0b8ac35'\n",
    "\n",
    "# get the Item using ItemID\n",
    "gdb_item = gis.content.get(gdb_id)\n",
    "\n",
    "# type(gdb_item) == Item  # True\n",
    "\n",
    "gdb_item.layers\n",
    "\n",
    "\n"
   ]
  },
  {
   "cell_type": "code",
   "execution_count": null,
   "metadata": {},
   "outputs": [],
   "source": []
  }
 ],
 "metadata": {
  "kernelspec": {
   "display_name": "arcgispro-py3-clone",
   "language": "python",
   "name": "arcgispro-py3-clone"
  },
  "language_info": {
   "codemirror_mode": {
    "name": "ipython",
    "version": 3
   },
   "file_extension": ".py",
   "mimetype": "text/x-python",
   "name": "python",
   "nbconvert_exporter": "python",
   "pygments_lexer": "ipython3",
   "version": "3.6.9"
  }
 },
 "nbformat": 4,
 "nbformat_minor": 2
}
