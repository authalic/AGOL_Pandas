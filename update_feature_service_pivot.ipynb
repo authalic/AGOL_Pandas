{
 "cells": [
  {
   "cell_type": "code",
   "execution_count": null,
   "metadata": {},
   "outputs": [],
   "source": [
    "import json\n",
    "from arcgis.gis import GIS\n",
    "from arcgis.features import FeatureLayer\n",
    "from arcgis.features import FeatureLayerCollection\n",
    "import pandas as pd"
   ]
  },
  {
   "cell_type": "code",
   "execution_count": null,
   "metadata": {},
   "outputs": [],
   "source": [
    "# connect to ArcGIS Online with DNR credentials\n",
    "\n",
    "with open(r'C:\\projects\\python\\jupyter\\secrets.json') as secrets:\n",
    "    s = json.load(secrets)\n",
    "    \n",
    "    # load username and password from secrets.json into variables here\n",
    "    DNR_username = s[\"dnr\"][\"username\"]\n",
    "    DNR_password = s[\"dnr\"][\"password\"]\n",
    "\n",
    "# connect to the GIS\n",
    "gis = GIS(username=DNR_username, password=DNR_password)"
   ]
  },
  {
   "cell_type": "code",
   "execution_count": null,
   "metadata": {},
   "outputs": [],
   "source": [
    "# URL of Employee Homes FeatureLayer\n",
    "employees_url=r'https://services.arcgis.com/ZzrwjTRez6FJiOq4/arcgis/rest/services/COVID19_DNR_Resources_gdb/FeatureServer/0'\n",
    "\n",
    "# the attribute table from this layer will be read into Pandas as a dataframe\n",
    "# that dataframe will be exported as a CSV\n",
    "# that CSV will be the source of the List in the dashboard\n",
    "\n",
    "employees_flayer = FeatureLayer(url=employees_url)\n",
    "emp_fset = employees_flayer.query()\n",
    "\n",
    "# convert the DataSet to a Pandas dataframe\n",
    "emp_pd = emp_fset.sdf\n",
    "\n",
    "emp_pd.head(10)"
   ]
  },
  {
   "cell_type": "code",
   "execution_count": null,
   "metadata": {
    "scrolled": true
   },
   "outputs": [],
   "source": [
    "# Group By 'Division' and Sum 'Status' fields\n",
    "emp_group = emp_pd.groupby(['Division', 'Status'])\n",
    "\n",
    "# create a new dataframe from groups, using the size() aggregation function\n",
    "output = pd.DataFrame(emp_group.size())\n",
    "\n",
    "output"
   ]
  },
  {
   "cell_type": "code",
   "execution_count": null,
   "metadata": {},
   "outputs": [],
   "source": [
    "# this dataframe is using a MultiIndex for the rows\n",
    "print(output.index)\n"
   ]
  },
  {
   "cell_type": "code",
   "execution_count": null,
   "metadata": {},
   "outputs": [],
   "source": [
    "# there is only one single column of actual data\n",
    "print(\"shape:\", output.shape)\n",
    "\n",
    "# rename the count column\n",
    "output.columns = [\"Count\"]\n",
    "\n",
    "# display the dataframe\n",
    "output"
   ]
  },
  {
   "cell_type": "code",
   "execution_count": null,
   "metadata": {},
   "outputs": [],
   "source": [
    "# reformat dataframe for the pivot here\n",
    "\n",
    "# reset the index to remove the multi-index\n",
    "pivot_output = output.reset_index()\n",
    "\n",
    "pivot_output"
   ]
  },
  {
   "cell_type": "code",
   "execution_count": null,
   "metadata": {},
   "outputs": [],
   "source": [
    "# do the pivot\n",
    "pivot_div = pivot_output.pivot(index='Division', columns='Status', values='Count')\n",
    "\n",
    "# change the NaN values to 0\n",
    "pivot_div = pivot_div.fillna(0)\n",
    "\n",
    "# cast the series to integers (to remove decimals appearing in the output csv)\n",
    "pivot_div.astype({'Active': 'int32', 'Annual': 'int32', 'Leave Without Pay': 'int32', 'Sick': 'int32'})"
   ]
  },
  {
   "cell_type": "code",
   "execution_count": null,
   "metadata": {},
   "outputs": [],
   "source": [
    "# save the dataframe to a CSV\n",
    "\n",
    "csv_filename = r'c:\\test\\division_status_summary_pivot.csv'\n",
    "pivot_div.to_csv(csv_filename)\n",
    "\n",
    "# FIX:\n",
    "# Pandas is still exporting integers as floats, with a .0 after each digit\n",
    "# this may need to be fixed by opening the CSV in Python and resaving it\n",
    "# with the proper integer formatting"
   ]
  },
  {
   "cell_type": "code",
   "execution_count": null,
   "metadata": {},
   "outputs": [],
   "source": [
    "# publish the CSV to ArcGIS Online as a hosted feature layer\n",
    "# add it to a web map\n",
    "# add that web map to a Dashboard, in order to access the table\n",
    "\n",
    "# upload (overwrite) the existing CSV on ArcGIS Online\n",
    "# see article: https://developers.arcgis.com/python/sample-notebooks/overwriting-feature-layers/\n",
    "\n",
    "# ArcGIS Online ItemID of hosted summary CSV table\n",
    "# summarycsv_id = '11e7b670a2fc4346a5f4d687aeb73345' # old\n",
    "summarycsv_id = 'ca018835d19a4f9fb2cbdf4ee2428162'\n",
    "\n",
    "# get the CSV Table Item from the gis object\n",
    "sumcsv_item = gis.content.get(summarycsv_id)\n",
    "\n",
    "# get a FeatureLayerCollection to overwrite the table\n",
    "csv_flayer_collection = FeatureLayerCollection.fromitem(sumcsv_item)\n",
    "csv_flayer_collection.manager.overwrite(csv_filename)"
   ]
  }
 ],
 "metadata": {
  "kernelspec": {
   "display_name": "arcgispro-py3-clone",
   "language": "python",
   "name": "arcgispro-py3-clone"
  },
  "language_info": {
   "codemirror_mode": {
    "name": "ipython",
    "version": 3
   },
   "file_extension": ".py",
   "mimetype": "text/x-python",
   "name": "python",
   "nbconvert_exporter": "python",
   "pygments_lexer": "ipython3",
   "version": "3.6.9"
  }
 },
 "nbformat": 4,
 "nbformat_minor": 4
}
